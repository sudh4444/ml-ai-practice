{
 "cells": [
  {
   "cell_type": "code",
   "execution_count": 1,
   "id": "3f76294b",
   "metadata": {
    "execution": {
     "iopub.execute_input": "2022-01-29T06:18:58.395279Z",
     "iopub.status.busy": "2022-01-29T06:18:58.394023Z",
     "iopub.status.idle": "2022-01-29T06:19:03.846668Z",
     "shell.execute_reply": "2022-01-29T06:19:03.845456Z",
     "shell.execute_reply.started": "2022-01-29T06:18:29.816899Z"
    },
    "papermill": {
     "duration": 5.468547,
     "end_time": "2022-01-29T06:19:03.846871",
     "exception": false,
     "start_time": "2022-01-29T06:18:58.378324",
     "status": "completed"
    },
    "tags": []
   },
   "outputs": [],
   "source": [
    "import pandas as pd\n",
    "from matplotlib import pyplot as plt\n",
    "import tensorflow as tf\n",
    "import numpy as np"
   ]
  },
  {
   "cell_type": "code",
   "execution_count": 2,
   "id": "744ff083",
   "metadata": {
    "execution": {
     "iopub.execute_input": "2022-01-29T06:19:03.873682Z",
     "iopub.status.busy": "2022-01-29T06:19:03.872646Z",
     "iopub.status.idle": "2022-01-29T06:19:07.610428Z",
     "shell.execute_reply": "2022-01-29T06:19:07.610941Z",
     "shell.execute_reply.started": "2022-01-29T06:18:29.834255Z"
    },
    "papermill": {
     "duration": 3.753039,
     "end_time": "2022-01-29T06:19:07.611167",
     "exception": false,
     "start_time": "2022-01-29T06:19:03.858128",
     "status": "completed"
    },
    "tags": []
   },
   "outputs": [
    {
     "data": {
      "text/html": [
       "<div>\n",
       "<style scoped>\n",
       "    .dataframe tbody tr th:only-of-type {\n",
       "        vertical-align: middle;\n",
       "    }\n",
       "\n",
       "    .dataframe tbody tr th {\n",
       "        vertical-align: top;\n",
       "    }\n",
       "\n",
       "    .dataframe thead th {\n",
       "        text-align: right;\n",
       "    }\n",
       "</style>\n",
       "<table border=\"1\" class=\"dataframe\">\n",
       "  <thead>\n",
       "    <tr style=\"text-align: right;\">\n",
       "      <th></th>\n",
       "      <th>label</th>\n",
       "      <th>pixel0</th>\n",
       "      <th>pixel1</th>\n",
       "      <th>pixel2</th>\n",
       "      <th>pixel3</th>\n",
       "      <th>pixel4</th>\n",
       "      <th>pixel5</th>\n",
       "      <th>pixel6</th>\n",
       "      <th>pixel7</th>\n",
       "      <th>pixel8</th>\n",
       "      <th>...</th>\n",
       "      <th>pixel774</th>\n",
       "      <th>pixel775</th>\n",
       "      <th>pixel776</th>\n",
       "      <th>pixel777</th>\n",
       "      <th>pixel778</th>\n",
       "      <th>pixel779</th>\n",
       "      <th>pixel780</th>\n",
       "      <th>pixel781</th>\n",
       "      <th>pixel782</th>\n",
       "      <th>pixel783</th>\n",
       "    </tr>\n",
       "  </thead>\n",
       "  <tbody>\n",
       "    <tr>\n",
       "      <th>0</th>\n",
       "      <td>1</td>\n",
       "      <td>0</td>\n",
       "      <td>0</td>\n",
       "      <td>0</td>\n",
       "      <td>0</td>\n",
       "      <td>0</td>\n",
       "      <td>0</td>\n",
       "      <td>0</td>\n",
       "      <td>0</td>\n",
       "      <td>0</td>\n",
       "      <td>...</td>\n",
       "      <td>0</td>\n",
       "      <td>0</td>\n",
       "      <td>0</td>\n",
       "      <td>0</td>\n",
       "      <td>0</td>\n",
       "      <td>0</td>\n",
       "      <td>0</td>\n",
       "      <td>0</td>\n",
       "      <td>0</td>\n",
       "      <td>0</td>\n",
       "    </tr>\n",
       "    <tr>\n",
       "      <th>1</th>\n",
       "      <td>0</td>\n",
       "      <td>0</td>\n",
       "      <td>0</td>\n",
       "      <td>0</td>\n",
       "      <td>0</td>\n",
       "      <td>0</td>\n",
       "      <td>0</td>\n",
       "      <td>0</td>\n",
       "      <td>0</td>\n",
       "      <td>0</td>\n",
       "      <td>...</td>\n",
       "      <td>0</td>\n",
       "      <td>0</td>\n",
       "      <td>0</td>\n",
       "      <td>0</td>\n",
       "      <td>0</td>\n",
       "      <td>0</td>\n",
       "      <td>0</td>\n",
       "      <td>0</td>\n",
       "      <td>0</td>\n",
       "      <td>0</td>\n",
       "    </tr>\n",
       "    <tr>\n",
       "      <th>2</th>\n",
       "      <td>1</td>\n",
       "      <td>0</td>\n",
       "      <td>0</td>\n",
       "      <td>0</td>\n",
       "      <td>0</td>\n",
       "      <td>0</td>\n",
       "      <td>0</td>\n",
       "      <td>0</td>\n",
       "      <td>0</td>\n",
       "      <td>0</td>\n",
       "      <td>...</td>\n",
       "      <td>0</td>\n",
       "      <td>0</td>\n",
       "      <td>0</td>\n",
       "      <td>0</td>\n",
       "      <td>0</td>\n",
       "      <td>0</td>\n",
       "      <td>0</td>\n",
       "      <td>0</td>\n",
       "      <td>0</td>\n",
       "      <td>0</td>\n",
       "    </tr>\n",
       "    <tr>\n",
       "      <th>3</th>\n",
       "      <td>4</td>\n",
       "      <td>0</td>\n",
       "      <td>0</td>\n",
       "      <td>0</td>\n",
       "      <td>0</td>\n",
       "      <td>0</td>\n",
       "      <td>0</td>\n",
       "      <td>0</td>\n",
       "      <td>0</td>\n",
       "      <td>0</td>\n",
       "      <td>...</td>\n",
       "      <td>0</td>\n",
       "      <td>0</td>\n",
       "      <td>0</td>\n",
       "      <td>0</td>\n",
       "      <td>0</td>\n",
       "      <td>0</td>\n",
       "      <td>0</td>\n",
       "      <td>0</td>\n",
       "      <td>0</td>\n",
       "      <td>0</td>\n",
       "    </tr>\n",
       "    <tr>\n",
       "      <th>4</th>\n",
       "      <td>0</td>\n",
       "      <td>0</td>\n",
       "      <td>0</td>\n",
       "      <td>0</td>\n",
       "      <td>0</td>\n",
       "      <td>0</td>\n",
       "      <td>0</td>\n",
       "      <td>0</td>\n",
       "      <td>0</td>\n",
       "      <td>0</td>\n",
       "      <td>...</td>\n",
       "      <td>0</td>\n",
       "      <td>0</td>\n",
       "      <td>0</td>\n",
       "      <td>0</td>\n",
       "      <td>0</td>\n",
       "      <td>0</td>\n",
       "      <td>0</td>\n",
       "      <td>0</td>\n",
       "      <td>0</td>\n",
       "      <td>0</td>\n",
       "    </tr>\n",
       "  </tbody>\n",
       "</table>\n",
       "<p>5 rows × 785 columns</p>\n",
       "</div>"
      ],
      "text/plain": [
       "   label  pixel0  pixel1  pixel2  pixel3  pixel4  pixel5  pixel6  pixel7  \\\n",
       "0      1       0       0       0       0       0       0       0       0   \n",
       "1      0       0       0       0       0       0       0       0       0   \n",
       "2      1       0       0       0       0       0       0       0       0   \n",
       "3      4       0       0       0       0       0       0       0       0   \n",
       "4      0       0       0       0       0       0       0       0       0   \n",
       "\n",
       "   pixel8  ...  pixel774  pixel775  pixel776  pixel777  pixel778  pixel779  \\\n",
       "0       0  ...         0         0         0         0         0         0   \n",
       "1       0  ...         0         0         0         0         0         0   \n",
       "2       0  ...         0         0         0         0         0         0   \n",
       "3       0  ...         0         0         0         0         0         0   \n",
       "4       0  ...         0         0         0         0         0         0   \n",
       "\n",
       "   pixel780  pixel781  pixel782  pixel783  \n",
       "0         0         0         0         0  \n",
       "1         0         0         0         0  \n",
       "2         0         0         0         0  \n",
       "3         0         0         0         0  \n",
       "4         0         0         0         0  \n",
       "\n",
       "[5 rows x 785 columns]"
      ]
     },
     "execution_count": 2,
     "metadata": {},
     "output_type": "execute_result"
    }
   ],
   "source": [
    "data_df = pd.read_csv('../input/mnist-digit-recognizer/train.csv')\n",
    "data_df.head()"
   ]
  },
  {
   "cell_type": "code",
   "execution_count": 3,
   "id": "bc4aceb6",
   "metadata": {
    "execution": {
     "iopub.execute_input": "2022-01-29T06:19:07.641512Z",
     "iopub.status.busy": "2022-01-29T06:19:07.640649Z",
     "iopub.status.idle": "2022-01-29T06:19:07.643914Z",
     "shell.execute_reply": "2022-01-29T06:19:07.644450Z",
     "shell.execute_reply.started": "2022-01-29T06:18:32.685011Z"
    },
    "papermill": {
     "duration": 0.021721,
     "end_time": "2022-01-29T06:19:07.644623",
     "exception": false,
     "start_time": "2022-01-29T06:19:07.622902",
     "status": "completed"
    },
    "tags": []
   },
   "outputs": [
    {
     "name": "stdout",
     "output_type": "stream",
     "text": [
      "(42000,) (42000, 784)\n"
     ]
    }
   ],
   "source": [
    "labels = data_df.iloc[:,0]\n",
    "image_data = data_df.iloc[:,1:]\n",
    "print(labels.shape, image_data.shape)"
   ]
  },
  {
   "cell_type": "code",
   "execution_count": 4,
   "id": "da9e3f3e",
   "metadata": {
    "execution": {
     "iopub.execute_input": "2022-01-29T06:19:07.672766Z",
     "iopub.status.busy": "2022-01-29T06:19:07.671748Z",
     "iopub.status.idle": "2022-01-29T06:19:08.996101Z",
     "shell.execute_reply": "2022-01-29T06:19:08.995390Z",
     "shell.execute_reply.started": "2022-01-29T06:18:32.692806Z"
    },
    "papermill": {
     "duration": 1.339707,
     "end_time": "2022-01-29T06:19:08.996256",
     "exception": false,
     "start_time": "2022-01-29T06:19:07.656549",
     "status": "completed"
    },
    "tags": []
   },
   "outputs": [],
   "source": [
    "class Linear(tf.keras.layers.Layer):\n",
    "    \"\"\"\n",
    "    - Units: number of neuron in that layer\n",
    "    - First layer uses n nodes, \n",
    "    - relu activation\n",
    "    \"\"\"\n",
    "    def __init__(self, units=32, input_dim=32):\n",
    "        super(Linear, self).__init__()\n",
    "        #weights should be normal initializer otherwise there will be vanishing gradient problem\n",
    "        w_init = tf.random_normal_initializer()\n",
    "        self.w = tf.Variable(\n",
    "                    initial_value=w_init(shape=(input_dim, units), dtype='float32')\n",
    "                    , trainable=True\n",
    "                    )\n",
    "        \n",
    "        b_init = tf.zeros_initializer()\n",
    "        self.b = tf.Variable(\n",
    "                    initial_value=b_init(shape=(units), dtype='float32')\n",
    "                    , trainable=True\n",
    "                    )\n",
    "        \n",
    "    def call(self, inputs):\n",
    "        return tf.nn.relu(tf.matmul(inputs, self.w) + self.b)"
   ]
  },
  {
   "cell_type": "code",
   "execution_count": 5,
   "id": "dcce64da",
   "metadata": {
    "execution": {
     "iopub.execute_input": "2022-01-29T06:19:09.026267Z",
     "iopub.status.busy": "2022-01-29T06:19:09.025440Z",
     "iopub.status.idle": "2022-01-29T06:19:09.028504Z",
     "shell.execute_reply": "2022-01-29T06:19:09.027935Z",
     "shell.execute_reply.started": "2022-01-29T06:18:32.708446Z"
    },
    "papermill": {
     "duration": 0.020548,
     "end_time": "2022-01-29T06:19:09.028644",
     "exception": false,
     "start_time": "2022-01-29T06:19:09.008096",
     "status": "completed"
    },
    "tags": []
   },
   "outputs": [],
   "source": [
    "class Linear2_softmax(Linear):\n",
    "    \"\"\"\n",
    "    This is the second layer which will give binary output \n",
    "    hence require softmax activation on the last layer\n",
    "    \"\"\"\n",
    "    def call(self, inputs):\n",
    "        return tf.nn.softmax(tf.matmul(inputs, self.w) + self.b)"
   ]
  },
  {
   "cell_type": "code",
   "execution_count": 6,
   "id": "4585f1f1",
   "metadata": {
    "execution": {
     "iopub.execute_input": "2022-01-29T06:19:09.057540Z",
     "iopub.status.busy": "2022-01-29T06:19:09.056766Z",
     "iopub.status.idle": "2022-01-29T06:19:09.059803Z",
     "shell.execute_reply": "2022-01-29T06:19:09.059259Z",
     "shell.execute_reply.started": "2022-01-29T06:18:32.721557Z"
    },
    "papermill": {
     "duration": 0.019455,
     "end_time": "2022-01-29T06:19:09.059951",
     "exception": false,
     "start_time": "2022-01-29T06:19:09.040496",
     "status": "completed"
    },
    "tags": []
   },
   "outputs": [],
   "source": [
    "# x = np.array([[4, 1, 0],\n",
    "#               [2, 3, 0]])\n",
    "# x = tf.convert_to_tensor(x, dtype='float32')\n",
    "# linear_layer = Linear(9,3)\n",
    "# y = linear_layer(x)\n",
    "# print(linear_layer.w, x, tf.matmul(x, linear_layer.w))"
   ]
  },
  {
   "cell_type": "code",
   "execution_count": 7,
   "id": "eb47565c",
   "metadata": {
    "execution": {
     "iopub.execute_input": "2022-01-29T06:19:09.089123Z",
     "iopub.status.busy": "2022-01-29T06:19:09.088374Z",
     "iopub.status.idle": "2022-01-29T06:19:09.091287Z",
     "shell.execute_reply": "2022-01-29T06:19:09.090620Z",
     "shell.execute_reply.started": "2022-01-29T06:18:32.739919Z"
    },
    "papermill": {
     "duration": 0.01921,
     "end_time": "2022-01-29T06:19:09.091429",
     "exception": false,
     "start_time": "2022-01-29T06:19:09.072219",
     "status": "completed"
    },
    "tags": []
   },
   "outputs": [],
   "source": [
    "# x_np = x.numpy()\n",
    "# w_np = linear_layer.w.numpy()\n",
    "\n",
    "# x_np.dot(w_np)"
   ]
  },
  {
   "cell_type": "code",
   "execution_count": 8,
   "id": "5e06df2a",
   "metadata": {
    "execution": {
     "iopub.execute_input": "2022-01-29T06:19:09.135386Z",
     "iopub.status.busy": "2022-01-29T06:19:09.123872Z",
     "iopub.status.idle": "2022-01-29T06:19:09.455732Z",
     "shell.execute_reply": "2022-01-29T06:19:09.455067Z",
     "shell.execute_reply.started": "2022-01-29T06:18:32.752308Z"
    },
    "papermill": {
     "duration": 0.352758,
     "end_time": "2022-01-29T06:19:09.455875",
     "exception": false,
     "start_time": "2022-01-29T06:19:09.103117",
     "status": "completed"
    },
    "tags": []
   },
   "outputs": [
    {
     "name": "stderr",
     "output_type": "stream",
     "text": [
      "\n",
      "User settings:\n",
      "\n",
      "   KMP_AFFINITY=granularity=fine,verbose,compact,1,0\n",
      "   KMP_BLOCKTIME=0\n",
      "   KMP_SETTINGS=1\n",
      "   KMP_WARNINGS=0\n",
      "\n",
      "Effective settings:\n",
      "\n",
      "   KMP_ABORT_DELAY=0\n",
      "   KMP_ADAPTIVE_LOCK_PROPS='1,1024'\n",
      "   KMP_ALIGN_ALLOC=64\n",
      "   KMP_ALL_THREADPRIVATE=128\n",
      "   KMP_ATOMIC_MODE=2\n",
      "   KMP_BLOCKTIME=0\n",
      "   KMP_CPUINFO_FILE: value is not defined\n",
      "   KMP_DETERMINISTIC_REDUCTION=false\n",
      "   KMP_DEVICE_THREAD_LIMIT=2147483647\n",
      "   KMP_DISP_NUM_BUFFERS=7\n",
      "   KMP_DUPLICATE_LIB_OK=false\n",
      "   KMP_ENABLE_TASK_THROTTLING=true\n",
      "   KMP_FORCE_REDUCTION: value is not defined\n",
      "   KMP_FOREIGN_THREADS_THREADPRIVATE=true\n",
      "   KMP_FORKJOIN_BARRIER='2,2'\n",
      "   KMP_FORKJOIN_BARRIER_PATTERN='hyper,hyper'\n",
      "   KMP_GTID_MODE=3\n",
      "   KMP_HANDLE_SIGNALS=false\n",
      "   KMP_HOT_TEAMS_MAX_LEVEL=1\n",
      "   KMP_HOT_TEAMS_MODE=0\n",
      "   KMP_INIT_AT_FORK=true\n",
      "   KMP_LIBRARY=throughput\n",
      "   KMP_LOCK_KIND=queuing\n",
      "   KMP_MALLOC_POOL_INCR=1M\n",
      "   KMP_NUM_LOCKS_IN_BLOCK=1\n",
      "   KMP_PLAIN_BARRIER='2,2'\n",
      "   KMP_PLAIN_BARRIER_PATTERN='hyper,hyper'\n",
      "   KMP_REDUCTION_BARRIER='1,1'\n",
      "   KMP_REDUCTION_BARRIER_PATTERN='hyper,hyper'\n",
      "   KMP_SCHEDULE='static,balanced;guided,iterative'\n",
      "   KMP_SETTINGS=true\n",
      "   KMP_SPIN_BACKOFF_PARAMS='4096,100'\n",
      "   KMP_STACKOFFSET=64\n",
      "   KMP_STACKPAD=0\n",
      "   KMP_STACKSIZE=8M\n",
      "   KMP_STORAGE_MAP=false\n",
      "   KMP_TASKING=2\n",
      "   KMP_TASKLOOP_MIN_TASKS=0\n",
      "   KMP_TASK_STEALING_CONSTRAINT=1\n",
      "   KMP_TEAMS_THREAD_LIMIT=4\n",
      "   KMP_TOPOLOGY_METHOD=all\n",
      "   KMP_USE_YIELD=1\n",
      "   KMP_VERSION=false\n",
      "   KMP_WARNINGS=false\n",
      "   OMP_AFFINITY_FORMAT='OMP: pid %P tid %i thread %n bound to OS proc set {%A}'\n",
      "   OMP_ALLOCATOR=omp_default_mem_alloc\n",
      "   OMP_CANCELLATION=false\n",
      "   OMP_DEFAULT_DEVICE=0\n",
      "   OMP_DISPLAY_AFFINITY=false\n",
      "   OMP_DISPLAY_ENV=false\n",
      "   OMP_DYNAMIC=false\n",
      "   OMP_MAX_ACTIVE_LEVELS=1\n",
      "   OMP_MAX_TASK_PRIORITY=0\n",
      "   OMP_NESTED: deprecated; max-active-levels-var=1\n",
      "   OMP_NUM_THREADS: value is not defined\n",
      "   OMP_PLACES: value is not defined\n",
      "   OMP_PROC_BIND='intel'\n",
      "   OMP_SCHEDULE='static'\n",
      "   OMP_STACKSIZE=8M\n",
      "   OMP_TARGET_OFFLOAD=DEFAULT\n",
      "   OMP_THREAD_LIMIT=2147483647\n",
      "   OMP_WAIT_POLICY=PASSIVE\n",
      "   KMP_AFFINITY='verbose,warnings,respect,granularity=fine,compact,1,0'\n",
      "\n",
      "2022-01-29 06:19:09.132092: I tensorflow/core/common_runtime/process_util.cc:146] Creating new thread pool with default inter op setting: 2. Tune using inter_op_parallelism_threads for best performance.\n"
     ]
    }
   ],
   "source": [
    "image_tf = tf.convert_to_tensor(image_data, dtype='float32')\n",
    "image_tf = image_tf/255\n",
    "labels_tf = tf.convert_to_tensor(labels, dtype='float32')"
   ]
  },
  {
   "cell_type": "code",
   "execution_count": 9,
   "id": "993e6d58",
   "metadata": {
    "execution": {
     "iopub.execute_input": "2022-01-29T06:19:09.485254Z",
     "iopub.status.busy": "2022-01-29T06:19:09.484234Z",
     "iopub.status.idle": "2022-01-29T06:19:09.639630Z",
     "shell.execute_reply": "2022-01-29T06:19:09.640151Z",
     "shell.execute_reply.started": "2022-01-29T06:18:32.980472Z"
    },
    "papermill": {
     "duration": 0.172235,
     "end_time": "2022-01-29T06:19:09.640342",
     "exception": false,
     "start_time": "2022-01-29T06:19:09.468107",
     "status": "completed"
    },
    "tags": []
   },
   "outputs": [],
   "source": [
    "input_layer = tf.keras.Input(shape=(784,), name=\"input\" )\n",
    "hidden_layer = Linear(units=10, input_dim=784)(input_layer)\n",
    "hidden_layer2 = Linear2_softmax(units=10, input_dim=10)(hidden_layer)\n",
    "model = tf.keras.models.Model(inputs=input_layer, outputs=hidden_layer2)"
   ]
  },
  {
   "cell_type": "code",
   "execution_count": 10,
   "id": "b8887a33",
   "metadata": {
    "execution": {
     "iopub.execute_input": "2022-01-29T06:19:09.668457Z",
     "iopub.status.busy": "2022-01-29T06:19:09.667454Z",
     "iopub.status.idle": "2022-01-29T06:19:10.537899Z",
     "shell.execute_reply": "2022-01-29T06:19:10.538365Z",
     "shell.execute_reply.started": "2022-01-29T06:18:33.050028Z"
    },
    "papermill": {
     "duration": 0.885989,
     "end_time": "2022-01-29T06:19:10.538537",
     "exception": false,
     "start_time": "2022-01-29T06:19:09.652548",
     "status": "completed"
    },
    "tags": []
   },
   "outputs": [
    {
     "name": "stdout",
     "output_type": "stream",
     "text": [
      "Model: \"model\"\n",
      "_________________________________________________________________\n",
      "Layer (type)                 Output Shape              Param #   \n",
      "=================================================================\n",
      "input (InputLayer)           [(None, 784)]             0         \n",
      "_________________________________________________________________\n",
      "linear (Linear)              (None, 10)                7850      \n",
      "_________________________________________________________________\n",
      "linear2_softmax (Linear2_sof (None, 10)                110       \n",
      "=================================================================\n",
      "Total params: 7,960\n",
      "Trainable params: 7,960\n",
      "Non-trainable params: 0\n",
      "_________________________________________________________________\n"
     ]
    },
    {
     "data": {
      "image/png": "[encoded data removed]",
      "text/plain": [
       "<IPython.core.display.Image object>"
      ]
     },
     "execution_count": 10,
     "metadata": {},
     "output_type": "execute_result"
    }
   ],
   "source": [
    "model.summary()\n",
    "tf.keras.utils.plot_model(model)"
   ]
  },
  {
   "cell_type": "code",
   "execution_count": 11,
   "id": "2a932a0e",
   "metadata": {
    "execution": {
     "iopub.execute_input": "2022-01-29T06:19:10.568129Z",
     "iopub.status.busy": "2022-01-29T06:19:10.567485Z",
     "iopub.status.idle": "2022-01-29T06:19:57.081528Z",
     "shell.execute_reply": "2022-01-29T06:19:57.080942Z"
    },
    "papermill": {
     "duration": 46.530067,
     "end_time": "2022-01-29T06:19:57.081687",
     "exception": false,
     "start_time": "2022-01-29T06:19:10.551620",
     "status": "completed"
    },
    "tags": []
   },
   "outputs": [
    {
     "name": "stdout",
     "output_type": "stream",
     "text": [
      "Step: 0, Loss: 2.306548595428467\n",
      "Step: 50, Loss: 2.1931989192962646\n",
      "Step: 100, Loss: 1.7602615356445312\n",
      "Step: 150, Loss: 1.190902829170227\n",
      "Step: 200, Loss: 0.8650481104850769\n",
      "Step: 250, Loss: 0.693806529045105\n",
      "Step: 300, Loss: 0.5920745730400085\n",
      "Step: 350, Loss: 0.528484582901001\n",
      "Step: 400, Loss: 0.4861176908016205\n",
      "Step: 450, Loss: 0.4561109244823456\n",
      "Step: 500, Loss: 0.4336983859539032\n",
      "Step: 550, Loss: 0.41621336340904236\n"
     ]
    }
   ],
   "source": [
    "optimizer = tf.keras.optimizers.SGD(learning_rate=0.07)\n",
    "loss_fn = tf.keras.losses.SparseCategoricalCrossentropy(from_logits=False)\n",
    "\n",
    "for i in range(600):\n",
    "    with tf.GradientTape() as tape:\n",
    "        pred = model(image_tf, training=True)\n",
    "        loss = loss_fn(labels_tf, pred)\n",
    "    \n",
    "    grads = tape.gradient(loss, model.trainable_weights)\n",
    "    optimizer.apply_gradients(zip(grads, model.trainable_weights))\n",
    "    \n",
    "    if i%50 == 0:\n",
    "        print(\"Step: {}, Loss: {}\".format(i, loss))"
   ]
  },
  {
   "cell_type": "code",
   "execution_count": 12,
   "id": "02f3de08",
   "metadata": {
    "execution": {
     "iopub.execute_input": "2022-01-29T06:19:57.119042Z",
     "iopub.status.busy": "2022-01-29T06:19:57.118334Z",
     "iopub.status.idle": "2022-01-29T06:19:57.632646Z",
     "shell.execute_reply": "2022-01-29T06:19:57.632105Z"
    },
    "papermill": {
     "duration": 0.534395,
     "end_time": "2022-01-29T06:19:57.632784",
     "exception": false,
     "start_time": "2022-01-29T06:19:57.098389",
     "status": "completed"
    },
    "tags": []
   },
   "outputs": [
    {
     "name": "stderr",
     "output_type": "stream",
     "text": [
      "2022-01-29 06:19:57.199644: I tensorflow/compiler/mlir/mlir_graph_optimization_pass.cc:185] None of the MLIR Optimization Passes are enabled (registered 2)\n"
     ]
    },
    {
     "name": "stdout",
     "output_type": "stream",
     "text": [
      "actual: 4.0, pred: 4\n"
     ]
    },
    {
     "data": {
      "image/png": "[encoded data removed]",
      "text/plain": [
       "<Figure size 432x288 with 1 Axes>"
      ]
     },
     "metadata": {
      "needs_background": "light"
     },
     "output_type": "display_data"
    }
   ],
   "source": [
    "index = np.random.randint(0,image_tf.shape[1])\n",
    "image = image_tf[index,None]\n",
    "label = labels_tf[index]\n",
    "pred = np.argmax(model.predict(image))\n",
    "print('actual: {}, pred: {}'.format(label, pred))\n",
    "img = image.numpy().reshape(28, 28) * 255\n",
    "plt.gray()\n",
    "plt.imshow(img, interpolation='nearest')\n",
    "plt.show()"
   ]
  }
 ],
 "metadata": {
  "kernelspec": {
   "display_name": "Python 3",
   "language": "python",
   "name": "python3"
  },
  "language_info": {
   "codemirror_mode": {
    "name": "ipython",
    "version": 3
   },
   "file_extension": ".py",
   "mimetype": "text/x-python",
   "name": "python",
   "nbconvert_exporter": "python",
   "pygments_lexer": "ipython3",
   "version": "3.7.12"
  },
  "papermill": {
   "default_parameters": {},
   "duration": 72.765987,
   "end_time": "2022-01-29T06:20:00.740311",
   "environment_variables": {},
   "exception": null,
   "input_path": "__notebook__.ipynb",
   "output_path": "__notebook__.ipynb",
   "parameters": {},
   "start_time": "2022-01-29T06:18:47.974324",
   "version": "2.3.3"
  }
 },
 "nbformat": 4,
 "nbformat_minor": 5
}
