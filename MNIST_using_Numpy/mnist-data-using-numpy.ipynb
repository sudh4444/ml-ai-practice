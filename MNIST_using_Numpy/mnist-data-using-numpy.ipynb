{
 "cells": [
  {
   "cell_type": "code",
   "execution_count": 1,
   "id": "8cfda9f5",
   "metadata": {
    "execution": {
     "iopub.execute_input": "2022-01-29T06:28:13.569102Z",
     "iopub.status.busy": "2022-01-29T06:28:13.568408Z",
     "iopub.status.idle": "2022-01-29T06:28:13.576390Z",
     "shell.execute_reply": "2022-01-29T06:28:13.575696Z",
     "shell.execute_reply.started": "2022-01-29T06:23:31.291288Z"
    },
    "papermill": {
     "duration": 0.034253,
     "end_time": "2022-01-29T06:28:13.576566",
     "exception": false,
     "start_time": "2022-01-29T06:28:13.542313",
     "status": "completed"
    },
    "tags": []
   },
   "outputs": [
    {
     "data": {
      "text/plain": [
       "'MNIST dataset, build basic neural network\\n   - 28*28 image\\n   - 784 pixels\\n   - x = [img1, |     i.e [784pixels,\\n          img2,            784pixels,\\n          img3,            ., \\n          .,               .,\\n          .]               .,]\\n    - xT = [img1, img2, img3] (each column represents 1 image (784 rows, n cols))\\n    \\n    - 1st input layer should be 784 nodes as 784 rows\\n    \\n'"
      ]
     },
     "execution_count": 1,
     "metadata": {},
     "output_type": "execute_result"
    }
   ],
   "source": [
    "\"\"\"MNIST dataset, build basic neural network\n",
    "   - 28*28 image\n",
    "   - 784 pixels\n",
    "   - x = [img1, |     i.e [784pixels,\n",
    "          img2,            784pixels,\n",
    "          img3,            ., \n",
    "          .,               .,\n",
    "          .]               .,]\n",
    "    - xT = [img1, img2, img3] (each column represents 1 image (784 rows, n cols))\n",
    "    \n",
    "    - 1st input layer should be 784 nodes as 784 rows\n",
    "    \n",
    "\"\"\""
   ]
  },
  {
   "cell_type": "code",
   "execution_count": 2,
   "id": "abf1e64c",
   "metadata": {
    "execution": {
     "iopub.execute_input": "2022-01-29T06:28:13.609560Z",
     "iopub.status.busy": "2022-01-29T06:28:13.608561Z",
     "iopub.status.idle": "2022-01-29T06:28:13.612716Z",
     "shell.execute_reply": "2022-01-29T06:28:13.613320Z",
     "shell.execute_reply.started": "2022-01-29T06:23:31.323565Z"
    },
    "papermill": {
     "duration": 0.021718,
     "end_time": "2022-01-29T06:28:13.613481",
     "exception": false,
     "start_time": "2022-01-29T06:28:13.591763",
     "status": "completed"
    },
    "tags": []
   },
   "outputs": [],
   "source": [
    "import numpy as np\n",
    "import pandas as pd\n",
    "from matplotlib import pyplot as plt"
   ]
  },
  {
   "cell_type": "code",
   "execution_count": 3,
   "id": "1382ad5e",
   "metadata": {
    "execution": {
     "iopub.execute_input": "2022-01-29T06:28:13.645180Z",
     "iopub.status.busy": "2022-01-29T06:28:13.644208Z",
     "iopub.status.idle": "2022-01-29T06:28:17.155389Z",
     "shell.execute_reply": "2022-01-29T06:28:17.154794Z",
     "shell.execute_reply.started": "2022-01-29T06:23:31.329755Z"
    },
    "papermill": {
     "duration": 3.528176,
     "end_time": "2022-01-29T06:28:17.155545",
     "exception": false,
     "start_time": "2022-01-29T06:28:13.627369",
     "status": "completed"
    },
    "tags": []
   },
   "outputs": [],
   "source": [
    "data = pd.read_csv('../input/mnist-digit-recognizer/train.csv')"
   ]
  },
  {
   "cell_type": "code",
   "execution_count": 4,
   "id": "24caf824",
   "metadata": {
    "execution": {
     "iopub.execute_input": "2022-01-29T06:28:17.193023Z",
     "iopub.status.busy": "2022-01-29T06:28:17.192241Z",
     "iopub.status.idle": "2022-01-29T06:28:17.211810Z",
     "shell.execute_reply": "2022-01-29T06:28:17.211164Z",
     "shell.execute_reply.started": "2022-01-29T06:23:34.992605Z"
    },
    "papermill": {
     "duration": 0.041558,
     "end_time": "2022-01-29T06:28:17.211950",
     "exception": false,
     "start_time": "2022-01-29T06:28:17.170392",
     "status": "completed"
    },
    "tags": []
   },
   "outputs": [
    {
     "data": {
      "text/html": [
       "<div>\n",
       "<style scoped>\n",
       "    .dataframe tbody tr th:only-of-type {\n",
       "        vertical-align: middle;\n",
       "    }\n",
       "\n",
       "    .dataframe tbody tr th {\n",
       "        vertical-align: top;\n",
       "    }\n",
       "\n",
       "    .dataframe thead th {\n",
       "        text-align: right;\n",
       "    }\n",
       "</style>\n",
       "<table border=\"1\" class=\"dataframe\">\n",
       "  <thead>\n",
       "    <tr style=\"text-align: right;\">\n",
       "      <th></th>\n",
       "      <th>label</th>\n",
       "      <th>pixel0</th>\n",
       "      <th>pixel1</th>\n",
       "      <th>pixel2</th>\n",
       "      <th>pixel3</th>\n",
       "      <th>pixel4</th>\n",
       "      <th>pixel5</th>\n",
       "      <th>pixel6</th>\n",
       "      <th>pixel7</th>\n",
       "      <th>pixel8</th>\n",
       "      <th>...</th>\n",
       "      <th>pixel774</th>\n",
       "      <th>pixel775</th>\n",
       "      <th>pixel776</th>\n",
       "      <th>pixel777</th>\n",
       "      <th>pixel778</th>\n",
       "      <th>pixel779</th>\n",
       "      <th>pixel780</th>\n",
       "      <th>pixel781</th>\n",
       "      <th>pixel782</th>\n",
       "      <th>pixel783</th>\n",
       "    </tr>\n",
       "  </thead>\n",
       "  <tbody>\n",
       "    <tr>\n",
       "      <th>0</th>\n",
       "      <td>1</td>\n",
       "      <td>0</td>\n",
       "      <td>0</td>\n",
       "      <td>0</td>\n",
       "      <td>0</td>\n",
       "      <td>0</td>\n",
       "      <td>0</td>\n",
       "      <td>0</td>\n",
       "      <td>0</td>\n",
       "      <td>0</td>\n",
       "      <td>...</td>\n",
       "      <td>0</td>\n",
       "      <td>0</td>\n",
       "      <td>0</td>\n",
       "      <td>0</td>\n",
       "      <td>0</td>\n",
       "      <td>0</td>\n",
       "      <td>0</td>\n",
       "      <td>0</td>\n",
       "      <td>0</td>\n",
       "      <td>0</td>\n",
       "    </tr>\n",
       "    <tr>\n",
       "      <th>1</th>\n",
       "      <td>0</td>\n",
       "      <td>0</td>\n",
       "      <td>0</td>\n",
       "      <td>0</td>\n",
       "      <td>0</td>\n",
       "      <td>0</td>\n",
       "      <td>0</td>\n",
       "      <td>0</td>\n",
       "      <td>0</td>\n",
       "      <td>0</td>\n",
       "      <td>...</td>\n",
       "      <td>0</td>\n",
       "      <td>0</td>\n",
       "      <td>0</td>\n",
       "      <td>0</td>\n",
       "      <td>0</td>\n",
       "      <td>0</td>\n",
       "      <td>0</td>\n",
       "      <td>0</td>\n",
       "      <td>0</td>\n",
       "      <td>0</td>\n",
       "    </tr>\n",
       "    <tr>\n",
       "      <th>2</th>\n",
       "      <td>1</td>\n",
       "      <td>0</td>\n",
       "      <td>0</td>\n",
       "      <td>0</td>\n",
       "      <td>0</td>\n",
       "      <td>0</td>\n",
       "      <td>0</td>\n",
       "      <td>0</td>\n",
       "      <td>0</td>\n",
       "      <td>0</td>\n",
       "      <td>...</td>\n",
       "      <td>0</td>\n",
       "      <td>0</td>\n",
       "      <td>0</td>\n",
       "      <td>0</td>\n",
       "      <td>0</td>\n",
       "      <td>0</td>\n",
       "      <td>0</td>\n",
       "      <td>0</td>\n",
       "      <td>0</td>\n",
       "      <td>0</td>\n",
       "    </tr>\n",
       "    <tr>\n",
       "      <th>3</th>\n",
       "      <td>4</td>\n",
       "      <td>0</td>\n",
       "      <td>0</td>\n",
       "      <td>0</td>\n",
       "      <td>0</td>\n",
       "      <td>0</td>\n",
       "      <td>0</td>\n",
       "      <td>0</td>\n",
       "      <td>0</td>\n",
       "      <td>0</td>\n",
       "      <td>...</td>\n",
       "      <td>0</td>\n",
       "      <td>0</td>\n",
       "      <td>0</td>\n",
       "      <td>0</td>\n",
       "      <td>0</td>\n",
       "      <td>0</td>\n",
       "      <td>0</td>\n",
       "      <td>0</td>\n",
       "      <td>0</td>\n",
       "      <td>0</td>\n",
       "    </tr>\n",
       "    <tr>\n",
       "      <th>4</th>\n",
       "      <td>0</td>\n",
       "      <td>0</td>\n",
       "      <td>0</td>\n",
       "      <td>0</td>\n",
       "      <td>0</td>\n",
       "      <td>0</td>\n",
       "      <td>0</td>\n",
       "      <td>0</td>\n",
       "      <td>0</td>\n",
       "      <td>0</td>\n",
       "      <td>...</td>\n",
       "      <td>0</td>\n",
       "      <td>0</td>\n",
       "      <td>0</td>\n",
       "      <td>0</td>\n",
       "      <td>0</td>\n",
       "      <td>0</td>\n",
       "      <td>0</td>\n",
       "      <td>0</td>\n",
       "      <td>0</td>\n",
       "      <td>0</td>\n",
       "    </tr>\n",
       "  </tbody>\n",
       "</table>\n",
       "<p>5 rows × 785 columns</p>\n",
       "</div>"
      ],
      "text/plain": [
       "   label  pixel0  pixel1  pixel2  pixel3  pixel4  pixel5  pixel6  pixel7  \\\n",
       "0      1       0       0       0       0       0       0       0       0   \n",
       "1      0       0       0       0       0       0       0       0       0   \n",
       "2      1       0       0       0       0       0       0       0       0   \n",
       "3      4       0       0       0       0       0       0       0       0   \n",
       "4      0       0       0       0       0       0       0       0       0   \n",
       "\n",
       "   pixel8  ...  pixel774  pixel775  pixel776  pixel777  pixel778  pixel779  \\\n",
       "0       0  ...         0         0         0         0         0         0   \n",
       "1       0  ...         0         0         0         0         0         0   \n",
       "2       0  ...         0         0         0         0         0         0   \n",
       "3       0  ...         0         0         0         0         0         0   \n",
       "4       0  ...         0         0         0         0         0         0   \n",
       "\n",
       "   pixel780  pixel781  pixel782  pixel783  \n",
       "0         0         0         0         0  \n",
       "1         0         0         0         0  \n",
       "2         0         0         0         0  \n",
       "3         0         0         0         0  \n",
       "4         0         0         0         0  \n",
       "\n",
       "[5 rows x 785 columns]"
      ]
     },
     "execution_count": 4,
     "metadata": {},
     "output_type": "execute_result"
    }
   ],
   "source": [
    "data.head()"
   ]
  },
  {
   "cell_type": "markdown",
   "id": "850fc833",
   "metadata": {
    "papermill": {
     "duration": 0.014516,
     "end_time": "2022-01-29T06:28:17.241177",
     "exception": false,
     "start_time": "2022-01-29T06:28:17.226661",
     "status": "completed"
    },
    "tags": []
   },
   "source": [
    "### 784 columns in 1 row shows 1 image,\n",
    "### 42000 images available"
   ]
  },
  {
   "cell_type": "code",
   "execution_count": 5,
   "id": "01f0329d",
   "metadata": {
    "execution": {
     "iopub.execute_input": "2022-01-29T06:28:17.274403Z",
     "iopub.status.busy": "2022-01-29T06:28:17.273713Z",
     "iopub.status.idle": "2022-01-29T06:28:17.278908Z",
     "shell.execute_reply": "2022-01-29T06:28:17.278366Z",
     "shell.execute_reply.started": "2022-01-29T06:23:35.017405Z"
    },
    "papermill": {
     "duration": 0.023133,
     "end_time": "2022-01-29T06:28:17.279069",
     "exception": false,
     "start_time": "2022-01-29T06:28:17.255936",
     "status": "completed"
    },
    "tags": []
   },
   "outputs": [
    {
     "name": "stdout",
     "output_type": "stream",
     "text": [
      "(42000, 785)\n"
     ]
    }
   ],
   "source": [
    "print(data.shape)"
   ]
  },
  {
   "cell_type": "code",
   "execution_count": 6,
   "id": "87b3b2c4",
   "metadata": {
    "execution": {
     "iopub.execute_input": "2022-01-29T06:28:17.314248Z",
     "iopub.status.busy": "2022-01-29T06:28:17.313518Z",
     "iopub.status.idle": "2022-01-29T06:28:17.415024Z",
     "shell.execute_reply": "2022-01-29T06:28:17.414299Z",
     "shell.execute_reply.started": "2022-01-29T06:23:35.023853Z"
    },
    "papermill": {
     "duration": 0.120946,
     "end_time": "2022-01-29T06:28:17.415172",
     "exception": false,
     "start_time": "2022-01-29T06:28:17.294226",
     "status": "completed"
    },
    "tags": []
   },
   "outputs": [],
   "source": [
    "#convert data to numpy array\n",
    "data = np.array(data)"
   ]
  },
  {
   "cell_type": "code",
   "execution_count": 7,
   "id": "9ef19e2a",
   "metadata": {
    "execution": {
     "iopub.execute_input": "2022-01-29T06:28:17.451553Z",
     "iopub.status.busy": "2022-01-29T06:28:17.450789Z",
     "iopub.status.idle": "2022-01-29T06:28:17.454654Z",
     "shell.execute_reply": "2022-01-29T06:28:17.454130Z",
     "shell.execute_reply.started": "2022-01-29T06:23:35.151482Z"
    },
    "papermill": {
     "duration": 0.024494,
     "end_time": "2022-01-29T06:28:17.454800",
     "exception": false,
     "start_time": "2022-01-29T06:28:17.430306",
     "status": "completed"
    },
    "tags": []
   },
   "outputs": [
    {
     "data": {
      "text/plain": [
       "numpy.ndarray"
      ]
     },
     "execution_count": 7,
     "metadata": {},
     "output_type": "execute_result"
    }
   ],
   "source": [
    "type(data)"
   ]
  },
  {
   "cell_type": "code",
   "execution_count": 8,
   "id": "0e79544f",
   "metadata": {
    "execution": {
     "iopub.execute_input": "2022-01-29T06:28:17.493333Z",
     "iopub.status.busy": "2022-01-29T06:28:17.492640Z",
     "iopub.status.idle": "2022-01-29T06:28:18.137692Z",
     "shell.execute_reply": "2022-01-29T06:28:18.137119Z",
     "shell.execute_reply.started": "2022-01-29T06:23:35.159053Z"
    },
    "papermill": {
     "duration": 0.667619,
     "end_time": "2022-01-29T06:28:18.137848",
     "exception": false,
     "start_time": "2022-01-29T06:28:17.470229",
     "status": "completed"
    },
    "tags": []
   },
   "outputs": [],
   "source": [
    "rows, cols = data.shape\n",
    "np.random.shuffle(data)\n",
    "\n",
    "#separate dev/test data\n",
    "dev_data = data[:1000].T\n",
    "y_dev = dev_data[0] # labels\n",
    "x_dev = dev_data[1:] # pixels\n",
    "x_dev = x_dev / 255. # normalizing pixels\n",
    "\n",
    "#separate train data\n",
    "train_data = data[1000:].T\n",
    "y_train = train_data[0] # labels\n",
    "x_train = train_data[1:] # pixels\n",
    "x_train = x_train / 255. # normalizing pixels"
   ]
  },
  {
   "cell_type": "code",
   "execution_count": 9,
   "id": "03e7dcf3",
   "metadata": {
    "execution": {
     "iopub.execute_input": "2022-01-29T06:28:18.187359Z",
     "iopub.status.busy": "2022-01-29T06:28:18.186684Z",
     "iopub.status.idle": "2022-01-29T06:28:18.189814Z",
     "shell.execute_reply": "2022-01-29T06:28:18.189248Z",
     "shell.execute_reply.started": "2022-01-29T06:23:35.831366Z"
    },
    "papermill": {
     "duration": 0.036579,
     "end_time": "2022-01-29T06:28:18.189952",
     "exception": false,
     "start_time": "2022-01-29T06:28:18.153373",
     "status": "completed"
    },
    "tags": []
   },
   "outputs": [
    {
     "name": "stdout",
     "output_type": "stream",
     "text": [
      "{0, 1, 2, 3, 4, 5, 6, 7, 8, 9}\n"
     ]
    }
   ],
   "source": [
    "#keeping labels separately to be used for one-hot encoding\n",
    "label_range = set(list(y_dev) + list(y_train))\n",
    "print(label_range)"
   ]
  },
  {
   "cell_type": "code",
   "execution_count": 10,
   "id": "ba1dc1dd",
   "metadata": {
    "execution": {
     "iopub.execute_input": "2022-01-29T06:28:18.226393Z",
     "iopub.status.busy": "2022-01-29T06:28:18.225743Z",
     "iopub.status.idle": "2022-01-29T06:28:18.229618Z",
     "shell.execute_reply": "2022-01-29T06:28:18.229105Z",
     "shell.execute_reply.started": "2022-01-29T06:23:35.852274Z"
    },
    "papermill": {
     "duration": 0.02417,
     "end_time": "2022-01-29T06:28:18.229767",
     "exception": false,
     "start_time": "2022-01-29T06:28:18.205597",
     "status": "completed"
    },
    "tags": []
   },
   "outputs": [
    {
     "data": {
      "text/plain": [
       "(784, 41000)"
      ]
     },
     "execution_count": 10,
     "metadata": {},
     "output_type": "execute_result"
    }
   ],
   "source": [
    "x_train.shape"
   ]
  },
  {
   "cell_type": "code",
   "execution_count": 11,
   "id": "859554c8",
   "metadata": {
    "execution": {
     "iopub.execute_input": "2022-01-29T06:28:18.281684Z",
     "iopub.status.busy": "2022-01-29T06:28:18.280936Z",
     "iopub.status.idle": "2022-01-29T06:28:18.283515Z",
     "shell.execute_reply": "2022-01-29T06:28:18.283012Z",
     "shell.execute_reply.started": "2022-01-29T06:23:35.864362Z"
    },
    "papermill": {
     "duration": 0.037854,
     "end_time": "2022-01-29T06:28:18.283658",
     "exception": false,
     "start_time": "2022-01-29T06:28:18.245804",
     "status": "completed"
    },
    "tags": []
   },
   "outputs": [],
   "source": [
    "class numpy_nn:\n",
    "    def __init__(self, X=None, Y = None, alpha = None):\n",
    "        #1st hidden layer has 10 nodes,\n",
    "        #784 pixels as input to the layer.\n",
    "        #(W.XT)\n",
    "        self.W1 = np.random.rand(10, 784) - 0.5\n",
    "        self.B1 = np.random.rand(10, 1) - 0.5\n",
    "        \n",
    "        #2nd layer has 10 nodes, 1st layer output nodes are 10\n",
    "        self.W2 = np.random.rand(10, 10) - 0.5\n",
    "        self.B2 = np.random.rand(10, 1) - 0.5\n",
    "        \n",
    "        self.Z1 = None\n",
    "        self.A1 = None\n",
    "        self.Z2 = None\n",
    "        self.A2 = None\n",
    "        \n",
    "        self.alpha = alpha\n",
    "        \n",
    "        self.labels = Y\n",
    "        self.X = X\n",
    "        \n",
    "    def forward_prop(self):\n",
    "        #1st hidden layer\n",
    "        self.Z1 = self.W1.dot(self.X) + self.B1\n",
    "        self.A1 = self.relu(self.Z1)\n",
    "        \n",
    "        #2nd hidden layer\n",
    "        self.Z2 = self.W2.dot(self.A1) + self.B2\n",
    "        self.A2 = self.softmax(self.Z2)\n",
    "    \n",
    "    def relu(self, Z):\n",
    "        return np.maximum(Z, 0)\n",
    "    \n",
    "    def softmax(self, z):\n",
    "        a = np.exp(z) / sum(np.exp(z))\n",
    "        return a\n",
    "    \n",
    "    def backward_prop(self):\n",
    "        m = self.labels.size\n",
    "        one_hot_y = self.one_hot_encod()\n",
    "        dz2 = self.A2 - one_hot_y\n",
    "        dw2 = (1 / m) * dz2.dot(self.A1.T)\n",
    "        db2 = (1 / m) * np.sum(dz2)\n",
    "        \n",
    "        dz1 = self.W2.T.dot(dz2) * self.deriv_relu(self.Z1)\n",
    "        dw1 = (1 / m) * dz1.dot(self.X.T)\n",
    "        db1 = (1 / m) * np.sum(dz1)        \n",
    "       \n",
    "        #after backpropagation, update the parameters\n",
    "        self.__update_params(dw1, db1, dw2, db2)\n",
    "    \n",
    "    def one_hot_encod(self):\n",
    "        #each row = label encoded\n",
    "        #col size = max classes available\n",
    "        one_hot_shape = (self.labels.size, len(label_range))\n",
    "        one_hot_y = np.zeros(one_hot_shape)\n",
    "        one_hot_y[np.arange(self.labels.size), self.labels] = 1\n",
    "        return one_hot_y.T\n",
    "    \n",
    "    def deriv_relu(self, Z):\n",
    "        return Z > 0\n",
    "    \n",
    "    def __update_params(self, dw1, db1, dw2, db2):\n",
    "        self.W1 = self.W1 - self.alpha * dw1\n",
    "        self.B1 = self.B1 - self.alpha * db1\n",
    "        \n",
    "        self.W2 = self.W2 - self.alpha * dw2\n",
    "        self.B2 = self.B2 - self.alpha * db2\n",
    "    \n",
    "    def get_accuracy(self):\n",
    "        predictions = self._get_predictions()\n",
    "        return np.sum(predictions == self.labels) / self.labels.size\n",
    "    \n",
    "    def _get_predictions(self,):\n",
    "        return np.argmax(self.A2, 0)\n",
    "        "
   ]
  },
  {
   "cell_type": "code",
   "execution_count": 12,
   "id": "a8120f7c",
   "metadata": {
    "execution": {
     "iopub.execute_input": "2022-01-29T06:28:18.322575Z",
     "iopub.status.busy": "2022-01-29T06:28:18.321814Z",
     "iopub.status.idle": "2022-01-29T06:28:18.323869Z",
     "shell.execute_reply": "2022-01-29T06:28:18.324495Z",
     "shell.execute_reply.started": "2022-01-29T06:23:35.884658Z"
    },
    "papermill": {
     "duration": 0.024868,
     "end_time": "2022-01-29T06:28:18.324677",
     "exception": false,
     "start_time": "2022-01-29T06:28:18.299809",
     "status": "completed"
    },
    "tags": []
   },
   "outputs": [],
   "source": [
    "\"\"\"\n",
    "    This function calls the neural net class and runs iterations\n",
    "    - forward propagation\n",
    "    - backward propagation\n",
    "    - update parameters\n",
    "\"\"\"\n",
    "def gradient_descent(X, Y, iterations):\n",
    "    for i in range(iterations):\n",
    "        neural_net_init.forward_prop()\n",
    "        neural_net_init.backward_prop()\n",
    "        if i%50==0:\n",
    "            print('Iterations: {}'.format(i))\n",
    "            print(\"Accuracy: {}\".format(neural_net_init.get_accuracy()))\n",
    "        "
   ]
  },
  {
   "cell_type": "code",
   "execution_count": 13,
   "id": "a64c77bb",
   "metadata": {
    "execution": {
     "iopub.execute_input": "2022-01-29T06:28:18.360207Z",
     "iopub.status.busy": "2022-01-29T06:28:18.359546Z",
     "iopub.status.idle": "2022-01-29T06:29:32.661903Z",
     "shell.execute_reply": "2022-01-29T06:29:32.662798Z",
     "shell.execute_reply.started": "2022-01-29T06:23:35.898401Z"
    },
    "papermill": {
     "duration": 74.322213,
     "end_time": "2022-01-29T06:29:32.663099",
     "exception": false,
     "start_time": "2022-01-29T06:28:18.340886",
     "status": "completed"
    },
    "tags": []
   },
   "outputs": [
    {
     "name": "stdout",
     "output_type": "stream",
     "text": [
      "Iterations: 0\n",
      "Accuracy: 0.09046341463414634\n",
      "Iterations: 50\n",
      "Accuracy: 0.47873170731707315\n",
      "Iterations: 100\n",
      "Accuracy: 0.6691219512195122\n",
      "Iterations: 150\n",
      "Accuracy: 0.7469024390243902\n",
      "Iterations: 200\n",
      "Accuracy: 0.7856829268292683\n",
      "Iterations: 250\n",
      "Accuracy: 0.8069024390243903\n",
      "Iterations: 300\n",
      "Accuracy: 0.8210243902439024\n",
      "Iterations: 350\n",
      "Accuracy: 0.8320975609756097\n",
      "Iterations: 400\n",
      "Accuracy: 0.8391219512195122\n",
      "Iterations: 450\n",
      "Accuracy: 0.8465121951219512\n"
     ]
    }
   ],
   "source": [
    "iterations = 500\n",
    "alpha = 0.10\n",
    "#gloabally call the model since it will be used later for testing\n",
    "neural_net_init = numpy_nn(x_train, y_train, alpha)\n",
    "gradient_descent(x_train, y_train, iterations)"
   ]
  },
  {
   "cell_type": "code",
   "execution_count": 14,
   "id": "4fa57efd",
   "metadata": {
    "execution": {
     "iopub.execute_input": "2022-01-29T06:29:32.745466Z",
     "iopub.status.busy": "2022-01-29T06:29:32.744384Z",
     "iopub.status.idle": "2022-01-29T06:29:32.956574Z",
     "shell.execute_reply": "2022-01-29T06:29:32.956015Z",
     "shell.execute_reply.started": "2022-01-29T06:24:48.849742Z"
    },
    "papermill": {
     "duration": 0.259257,
     "end_time": "2022-01-29T06:29:32.956716",
     "exception": false,
     "start_time": "2022-01-29T06:29:32.697459",
     "status": "completed"
    },
    "tags": []
   },
   "outputs": [
    {
     "name": "stdout",
     "output_type": "stream",
     "text": [
      "Predicted label: [3]\n",
      "Actual label: [5]\n"
     ]
    },
    {
     "data": {
      "image/png": "[encoded data removed]",
      "text/plain": [
       "<Figure size 432x288 with 1 Axes>"
      ]
     },
     "metadata": {
      "needs_background": "light"
     },
     "output_type": "display_data"
    }
   ],
   "source": [
    "# for testing on trained dataset first\n",
    "def trial():\n",
    "    _, m = x_dev.shape\n",
    "    index = np.random.randint(m +1, size=1)\n",
    "    current_image = x_dev[:, int(index), None]\n",
    "    label = y_dev[index]\n",
    "    #to make prediction use the model which has the weights and biases saved\n",
    "    neural_net_init.X = current_image\n",
    "    neural_net_init.labels = label\n",
    "\n",
    "    #only feed forward is required to check the prediction\n",
    "    neural_net_init.forward_prop()\n",
    "    prediction = neural_net_init._get_predictions()\n",
    "    print(\"Predicted label: {}\".format(prediction))\n",
    "    print(\"Actual label: {}\".format(label))\n",
    "\n",
    "    #display the image\n",
    "    current_image = current_image.reshape((28,28)) * 255\n",
    "    plt.gray()\n",
    "    plt.imshow(current_image, interpolation='nearest')\n",
    "    plt.show()\n",
    "\n",
    "trial()"
   ]
  },
  {
   "cell_type": "code",
   "execution_count": 15,
   "id": "75f7f438",
   "metadata": {
    "execution": {
     "iopub.execute_input": "2022-01-29T06:29:33.001035Z",
     "iopub.status.busy": "2022-01-29T06:29:33.000418Z",
     "iopub.status.idle": "2022-01-29T06:29:33.015043Z",
     "shell.execute_reply": "2022-01-29T06:29:33.015874Z",
     "shell.execute_reply.started": "2022-01-29T06:24:49.063855Z"
    },
    "papermill": {
     "duration": 0.039387,
     "end_time": "2022-01-29T06:29:33.016155",
     "exception": false,
     "start_time": "2022-01-29T06:29:32.976768",
     "status": "completed"
    },
    "tags": []
   },
   "outputs": [
    {
     "name": "stdout",
     "output_type": "stream",
     "text": [
      "accuracy : 0.844\n"
     ]
    }
   ],
   "source": [
    "# Check accuracy on the test set, images which model has not yet seen\n",
    "image_set = x_dev\n",
    "label = y_dev\n",
    "#to make prediction use the model which has the weights and biases saved\n",
    "neural_net_init.X = image_set\n",
    "neural_net_init.labels = label\n",
    "\n",
    "#only feed forward is required to check the prediction\n",
    "neural_net_init.forward_prop()\n",
    "accuracy = neural_net_init.get_accuracy()\n",
    "print(\"accuracy : {}\".format(accuracy))\n"
   ]
  }
 ],
 "metadata": {
  "kernelspec": {
   "display_name": "Python 3",
   "language": "python",
   "name": "python3"
  },
  "language_info": {
   "codemirror_mode": {
    "name": "ipython",
    "version": 3
   },
   "file_extension": ".py",
   "mimetype": "text/x-python",
   "name": "python",
   "nbconvert_exporter": "python",
   "pygments_lexer": "ipython3",
   "version": "3.7.12"
  },
  "papermill": {
   "default_parameters": {},
   "duration": 89.886632,
   "end_time": "2022-01-29T06:29:33.763398",
   "environment_variables": {},
   "exception": null,
   "input_path": "__notebook__.ipynb",
   "output_path": "__notebook__.ipynb",
   "parameters": {},
   "start_time": "2022-01-29T06:28:03.876766",
   "version": "2.3.3"
  }
 },
 "nbformat": 4,
 "nbformat_minor": 5
}
